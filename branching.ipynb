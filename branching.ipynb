{
 "cells": [
  {
   "cell_type": "code",
   "execution_count": 16,
   "metadata": {
    "collapsed": true
   },
   "outputs": [],
   "source": [
    "# To help come up with better heuristics for isolation game I tried to understand what is the avarage number of \n",
    "# continuation at each point of the game is present. The results here is the analysis of random.txt that was generated\n",
    "# by two players playing randomly. \n",
    "\n",
    "from numpy import loadtxt\n",
    "lines = loadtxt(\"random.txt\", comments=\"#\", delimiter=\"\\n\", unpack=False)"
   ]
  },
  {
   "cell_type": "code",
   "execution_count": 17,
   "metadata": {},
   "outputs": [
    {
     "data": {
      "text/plain": [
       "array([  4.79560000e+00,   4.68290000e+00,   4.51370000e+00,\n",
       "         4.40990000e+00,   4.45570000e+00,   4.35850000e+00,\n",
       "         4.00470000e+00,   3.90690000e+00,   3.88460000e+00,\n",
       "         3.77280000e+00,   3.59800000e+00,   3.43900000e+00,\n",
       "         3.36770000e+00,   3.26040000e+00,   2.99890000e+00,\n",
       "         2.87010000e+00,   2.75020000e+00,   2.59870000e+00,\n",
       "         2.36400000e+00,   2.20460000e+00,   2.11120000e+00,\n",
       "         1.93440000e+00,   1.72910000e+00,   1.54300000e+00,\n",
       "         1.42410000e+00,   1.29390000e+00,   1.07760000e+00,\n",
       "         9.21300000e-01,   7.98800000e-01,   6.70100000e-01,\n",
       "         5.26000000e-01,   4.02000000e-01,   3.23300000e-01,\n",
       "         2.48900000e-01,   1.75100000e-01,   1.23800000e-01,\n",
       "         8.93000000e-02,   5.85000000e-02,   3.45000000e-02,\n",
       "         1.76000000e-02,   1.01000000e-02,   5.00000000e-03,\n",
       "         1.80000000e-03,   1.00000000e-03,   3.00000000e-04,\n",
       "         0.00000000e+00,   0.00000000e+00])"
      ]
     },
     "execution_count": 17,
     "metadata": {},
     "output_type": "execute_result"
    }
   ],
   "source": [
    "lines"
   ]
  },
  {
   "cell_type": "code",
   "execution_count": 18,
   "metadata": {
    "collapsed": true
   },
   "outputs": [],
   "source": [
    "total = 1\n",
    "for i in range(len(lines)):\n",
    "    if lines[i] >1:\n",
    "        total*=lines[i]"
   ]
  },
  {
   "cell_type": "code",
   "execution_count": 19,
   "metadata": {},
   "outputs": [
    {
     "data": {
      "text/plain": [
       "1875855757071.0442"
      ]
     },
     "execution_count": 19,
     "metadata": {},
     "output_type": "execute_result"
    }
   ],
   "source": [
    "# total average number of possible moves available for each player on the base of 10000 simulations\n",
    "total\n"
   ]
  },
  {
   "cell_type": "code",
   "execution_count": 20,
   "metadata": {},
   "outputs": [
    {
     "data": {
      "text/plain": [
       "1875.8557570710441"
      ]
     },
     "execution_count": 20,
     "metadata": {},
     "output_type": "execute_result"
    }
   ],
   "source": [
    "total / 1e9"
   ]
  },
  {
   "cell_type": "code",
   "execution_count": 9,
   "metadata": {},
   "outputs": [
    {
     "data": {
      "text/plain": [
       "187585575.70710441"
      ]
     },
     "execution_count": 9,
     "metadata": {},
     "output_type": "execute_result"
    }
   ],
   "source": [
    "total /10e3"
   ]
  },
  {
   "cell_type": "code",
   "execution_count": null,
   "metadata": {
    "collapsed": true
   },
   "outputs": [],
   "source": []
  }
 ],
 "metadata": {
  "anaconda-cloud": {},
  "kernelspec": {
   "display_name": "Python 3",
   "language": "python",
   "name": "python3"
  },
  "language_info": {
   "codemirror_mode": {
    "name": "ipython",
    "version": 3
   },
   "file_extension": ".py",
   "mimetype": "text/x-python",
   "name": "python",
   "nbconvert_exporter": "python",
   "pygments_lexer": "ipython3",
   "version": "3.6.5"
  }
 },
 "nbformat": 4,
 "nbformat_minor": 2
}
